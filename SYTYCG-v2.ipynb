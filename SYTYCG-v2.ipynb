{
 "cells": [
  {
   "cell_type": "code",
   "execution_count": 1,
   "metadata": {},
   "outputs": [
    {
     "name": "stderr",
     "output_type": "stream",
     "text": [
      "/Users/kendra/anaconda3/lib/python3.6/site-packages/matplotlib/__init__.py:886: MatplotlibDeprecationWarning: \n",
      "examples.directory is deprecated; in the future, examples will be found relative to the 'datapath' directory.\n",
      "  \"found relative to the 'datapath' directory.\".format(key))\n"
     ]
    }
   ],
   "source": [
    "import pandas as pd\n",
    "import numpy as np\n",
    "import matplotlib.pyplot as plt\n",
    "import seaborn as sns\n",
    "\n",
    "from scipy import stats"
   ]
  },
  {
   "cell_type": "code",
   "execution_count": 95,
   "metadata": {},
   "outputs": [],
   "source": [
    "from functools import reduce"
   ]
  },
  {
   "cell_type": "code",
   "execution_count": 40,
   "metadata": {},
   "outputs": [],
   "source": [
    "from matplotlib import ticker"
   ]
  },
  {
   "cell_type": "code",
   "execution_count": 5,
   "metadata": {},
   "outputs": [],
   "source": [
    "raw_data = pd.read_csv('../Data/saveData_SYTYCG_Season1.csv', index_col=0)"
   ]
  },
  {
   "cell_type": "code",
   "execution_count": 6,
   "metadata": {},
   "outputs": [
    {
     "data": {
      "text/html": [
       "<div>\n",
       "<style scoped>\n",
       "    .dataframe tbody tr th:only-of-type {\n",
       "        vertical-align: middle;\n",
       "    }\n",
       "\n",
       "    .dataframe tbody tr th {\n",
       "        vertical-align: top;\n",
       "    }\n",
       "\n",
       "    .dataframe thead th {\n",
       "        text-align: right;\n",
       "    }\n",
       "</style>\n",
       "<table border=\"1\" class=\"dataframe\">\n",
       "  <thead>\n",
       "    <tr style=\"text-align: right;\">\n",
       "      <th></th>\n",
       "      <th>graphNum</th>\n",
       "      <th>group</th>\n",
       "      <th>val</th>\n",
       "    </tr>\n",
       "  </thead>\n",
       "  <tbody>\n",
       "    <tr>\n",
       "      <th>2</th>\n",
       "      <td>1</td>\n",
       "      <td>Massed</td>\n",
       "      <td>57.447567</td>\n",
       "    </tr>\n",
       "    <tr>\n",
       "      <th>3</th>\n",
       "      <td>1</td>\n",
       "      <td>Massed</td>\n",
       "      <td>54.334203</td>\n",
       "    </tr>\n",
       "    <tr>\n",
       "      <th>4</th>\n",
       "      <td>1</td>\n",
       "      <td>Massed</td>\n",
       "      <td>53.716259</td>\n",
       "    </tr>\n",
       "    <tr>\n",
       "      <th>5</th>\n",
       "      <td>1</td>\n",
       "      <td>Massed</td>\n",
       "      <td>49.718713</td>\n",
       "    </tr>\n",
       "    <tr>\n",
       "      <th>6</th>\n",
       "      <td>1</td>\n",
       "      <td>Massed</td>\n",
       "      <td>39.093200</td>\n",
       "    </tr>\n",
       "  </tbody>\n",
       "</table>\n",
       "</div>"
      ],
      "text/plain": [
       "   graphNum   group        val\n",
       "2         1  Massed  57.447567\n",
       "3         1  Massed  54.334203\n",
       "4         1  Massed  53.716259\n",
       "5         1  Massed  49.718713\n",
       "6         1  Massed  39.093200"
      ]
     },
     "execution_count": 6,
     "metadata": {},
     "output_type": "execute_result"
    }
   ],
   "source": [
    "raw_data.head()"
   ]
  },
  {
   "cell_type": "code",
   "execution_count": 13,
   "metadata": {},
   "outputs": [],
   "source": [
    "grp = raw_data.groupby(['graphNum', 'group']).agg({'val':['mean', 'max', 'min', 'std', stats.sem]})"
   ]
  },
  {
   "cell_type": "code",
   "execution_count": 16,
   "metadata": {},
   "outputs": [],
   "source": [
    "grp.columns = ['mean', 'max', 'min', 'std', 'sem']\n",
    "grp.reset_index(inplace=True)"
   ]
  },
  {
   "cell_type": "code",
   "execution_count": 25,
   "metadata": {},
   "outputs": [],
   "source": [
    "grp['ymin'] = grp['mean'] - grp['std']\n",
    "grp['ymax'] = grp['mean'] + grp['std']"
   ]
  },
  {
   "cell_type": "code",
   "execution_count": 85,
   "metadata": {},
   "outputs": [
    {
     "data": {
      "text/html": [
       "<div>\n",
       "<style scoped>\n",
       "    .dataframe tbody tr th:only-of-type {\n",
       "        vertical-align: middle;\n",
       "    }\n",
       "\n",
       "    .dataframe tbody tr th {\n",
       "        vertical-align: top;\n",
       "    }\n",
       "\n",
       "    .dataframe thead th {\n",
       "        text-align: right;\n",
       "    }\n",
       "</style>\n",
       "<table border=\"1\" class=\"dataframe\">\n",
       "  <thead>\n",
       "    <tr style=\"text-align: right;\">\n",
       "      <th></th>\n",
       "      <th>graphNum</th>\n",
       "      <th>group</th>\n",
       "      <th>mean</th>\n",
       "      <th>max</th>\n",
       "      <th>min</th>\n",
       "      <th>std</th>\n",
       "      <th>sem</th>\n",
       "      <th>ymin</th>\n",
       "      <th>ymax</th>\n",
       "    </tr>\n",
       "  </thead>\n",
       "  <tbody>\n",
       "    <tr>\n",
       "      <th>0</th>\n",
       "      <td>1</td>\n",
       "      <td>Massed</td>\n",
       "      <td>49.405409</td>\n",
       "      <td>72.532618</td>\n",
       "      <td>24.502193</td>\n",
       "      <td>10.573517</td>\n",
       "      <td>1.182155</td>\n",
       "      <td>38.831892</td>\n",
       "      <td>59.978926</td>\n",
       "    </tr>\n",
       "    <tr>\n",
       "      <th>1</th>\n",
       "      <td>1</td>\n",
       "      <td>Spaced</td>\n",
       "      <td>49.470607</td>\n",
       "      <td>75.328566</td>\n",
       "      <td>20.214514</td>\n",
       "      <td>11.061478</td>\n",
       "      <td>1.236711</td>\n",
       "      <td>38.409129</td>\n",
       "      <td>60.532084</td>\n",
       "    </tr>\n",
       "    <tr>\n",
       "      <th>2</th>\n",
       "      <td>2</td>\n",
       "      <td>Massed</td>\n",
       "      <td>49.581068</td>\n",
       "      <td>74.941091</td>\n",
       "      <td>28.288028</td>\n",
       "      <td>8.331347</td>\n",
       "      <td>0.931473</td>\n",
       "      <td>41.249721</td>\n",
       "      <td>57.912414</td>\n",
       "    </tr>\n",
       "    <tr>\n",
       "      <th>3</th>\n",
       "      <td>2</td>\n",
       "      <td>Spaced</td>\n",
       "      <td>49.429959</td>\n",
       "      <td>74.053940</td>\n",
       "      <td>23.970771</td>\n",
       "      <td>9.816830</td>\n",
       "      <td>1.097555</td>\n",
       "      <td>39.613129</td>\n",
       "      <td>59.246789</td>\n",
       "    </tr>\n",
       "    <tr>\n",
       "      <th>4</th>\n",
       "      <td>3</td>\n",
       "      <td>Massed</td>\n",
       "      <td>48.395230</td>\n",
       "      <td>71.979325</td>\n",
       "      <td>20.178931</td>\n",
       "      <td>9.849317</td>\n",
       "      <td>1.101187</td>\n",
       "      <td>38.545913</td>\n",
       "      <td>58.244547</td>\n",
       "    </tr>\n",
       "  </tbody>\n",
       "</table>\n",
       "</div>"
      ],
      "text/plain": [
       "   graphNum   group       mean        max        min        std       sem  \\\n",
       "0         1  Massed  49.405409  72.532618  24.502193  10.573517  1.182155   \n",
       "1         1  Spaced  49.470607  75.328566  20.214514  11.061478  1.236711   \n",
       "2         2  Massed  49.581068  74.941091  28.288028   8.331347  0.931473   \n",
       "3         2  Spaced  49.429959  74.053940  23.970771   9.816830  1.097555   \n",
       "4         3  Massed  48.395230  71.979325  20.178931   9.849317  1.101187   \n",
       "\n",
       "        ymin       ymax  \n",
       "0  38.831892  59.978926  \n",
       "1  38.409129  60.532084  \n",
       "2  41.249721  57.912414  \n",
       "3  39.613129  59.246789  \n",
       "4  38.545913  58.244547  "
      ]
     },
     "execution_count": 85,
     "metadata": {},
     "output_type": "execute_result"
    }
   ],
   "source": [
    "grp.head()"
   ]
  },
  {
   "cell_type": "code",
   "execution_count": 96,
   "metadata": {},
   "outputs": [],
   "source": [
    "def sd_pooled(sds):\n",
    "    return reduce(lambda x, y: np.sqrt(x**2 + y**2) / 2, sds)"
   ]
  },
  {
   "cell_type": "code",
   "execution_count": 101,
   "metadata": {},
   "outputs": [],
   "source": [
    "grp2 = grp.groupby(['graphNum']).agg({'std': sd_pooled, 'mean': np.diff})"
   ]
  },
  {
   "cell_type": "code",
   "execution_count": 106,
   "metadata": {},
   "outputs": [],
   "source": [
    "grp2.reset_index(inplace=True)"
   ]
  },
  {
   "cell_type": "code",
   "execution_count": 103,
   "metadata": {},
   "outputs": [],
   "source": [
    "grp2['cohens_d'] = np.abs(grp2['mean'] / grp2['std'])"
   ]
  },
  {
   "cell_type": "code",
   "execution_count": 149,
   "metadata": {},
   "outputs": [],
   "source": [
    "def assign_color(cohens_d):\n",
    "    if cohens_d <= 0.1:\n",
    "        color_m = 'lightskyblue'\n",
    "    elif cohens_d <= 0.5:\n",
    "        color_m = 'turquoise'\n",
    "    elif cohens_d <= 0.8:\n",
    "        color_m = 'limegreen'\n",
    "    elif cohens_d > 1:\n",
    "        color_m = 'orange'\n",
    "    \n",
    "    return color_m"
   ]
  },
  {
   "cell_type": "code",
   "execution_count": 150,
   "metadata": {},
   "outputs": [],
   "source": [
    "grp2['color'] = grp2['cohens_d'].apply(lambda x: assign_color(x))"
   ]
  },
  {
   "cell_type": "code",
   "execution_count": 151,
   "metadata": {},
   "outputs": [
    {
     "data": {
      "text/html": [
       "<div>\n",
       "<style scoped>\n",
       "    .dataframe tbody tr th:only-of-type {\n",
       "        vertical-align: middle;\n",
       "    }\n",
       "\n",
       "    .dataframe tbody tr th {\n",
       "        vertical-align: top;\n",
       "    }\n",
       "\n",
       "    .dataframe thead th {\n",
       "        text-align: right;\n",
       "    }\n",
       "</style>\n",
       "<table border=\"1\" class=\"dataframe\">\n",
       "  <thead>\n",
       "    <tr style=\"text-align: right;\">\n",
       "      <th></th>\n",
       "      <th>graphNum</th>\n",
       "      <th>std</th>\n",
       "      <th>mean</th>\n",
       "      <th>cohens_d</th>\n",
       "      <th>color</th>\n",
       "    </tr>\n",
       "  </thead>\n",
       "  <tbody>\n",
       "    <tr>\n",
       "      <th>0</th>\n",
       "      <td>1</td>\n",
       "      <td>7.651071</td>\n",
       "      <td>0.065197</td>\n",
       "      <td>0.008521</td>\n",
       "      <td>lightskyblue</td>\n",
       "    </tr>\n",
       "    <tr>\n",
       "      <th>1</th>\n",
       "      <td>2</td>\n",
       "      <td>6.437808</td>\n",
       "      <td>-0.151109</td>\n",
       "      <td>0.023472</td>\n",
       "      <td>lightskyblue</td>\n",
       "    </tr>\n",
       "    <tr>\n",
       "      <th>2</th>\n",
       "      <td>3</td>\n",
       "      <td>7.029475</td>\n",
       "      <td>0.491013</td>\n",
       "      <td>0.069851</td>\n",
       "      <td>lightskyblue</td>\n",
       "    </tr>\n",
       "    <tr>\n",
       "      <th>3</th>\n",
       "      <td>4</td>\n",
       "      <td>7.213636</td>\n",
       "      <td>0.503252</td>\n",
       "      <td>0.069764</td>\n",
       "      <td>lightskyblue</td>\n",
       "    </tr>\n",
       "    <tr>\n",
       "      <th>4</th>\n",
       "      <td>5</td>\n",
       "      <td>6.781659</td>\n",
       "      <td>-0.360394</td>\n",
       "      <td>0.053142</td>\n",
       "      <td>lightskyblue</td>\n",
       "    </tr>\n",
       "  </tbody>\n",
       "</table>\n",
       "</div>"
      ],
      "text/plain": [
       "   graphNum       std      mean  cohens_d         color\n",
       "0         1  7.651071  0.065197  0.008521  lightskyblue\n",
       "1         2  6.437808 -0.151109  0.023472  lightskyblue\n",
       "2         3  7.029475  0.491013  0.069851  lightskyblue\n",
       "3         4  7.213636  0.503252  0.069764  lightskyblue\n",
       "4         5  6.781659 -0.360394  0.053142  lightskyblue"
      ]
     },
     "execution_count": 151,
     "metadata": {},
     "output_type": "execute_result"
    }
   ],
   "source": [
    "grp2.head()"
   ]
  },
  {
   "cell_type": "code",
   "execution_count": 209,
   "metadata": {},
   "outputs": [],
   "source": [
    "label_fs = 14\n",
    "tick_fs = 12\n",
    "my_dpi = 196\n",
    "ms = 12\n",
    "cs = 6"
   ]
  },
  {
   "cell_type": "code",
   "execution_count": 210,
   "metadata": {},
   "outputs": [],
   "source": [
    "def plot_group(n):\n",
    "    '''Plots data for group n'''\n",
    "    \n",
    "    plt.figure(figsize=(600/my_dpi, 600/my_dpi), dpi=my_dpi)\n",
    "    data_m = grp.loc[2*(n-1)]\n",
    "    data_s = grp.loc[2*(n-1) + 1]\n",
    "    graph_data = grp2[grp2['graphNum'] == n]\n",
    "    cohens_d = graph_data['cohens_d'].values[0]\n",
    "    color_m = graph_data['color'].values[0]\n",
    "    filename = 'SYTYCG_2019/Frederick' + str(n) + '.jpg' #'.bmp' --> not supported by matplotlib\n",
    "    \n",
    "    plt.errorbar(x=1, y=data_m['mean'], yerr=data_m['sem'], fmt='ro', markersize=ms, mfc=color_m, mec=color_m,\n",
    "                 capsize=cs, ecolor='black', barsabove=True)\n",
    "    plt.errorbar(x=2, y=data_s['mean'], yerr=data_s['sem'], fmt='bo', markersize=ms, \n",
    "                 capsize=cs, ecolor='black', barsabove=True)\n",
    "\n",
    "    plt.ylim(np.mean([data_m['ymin'], data_s['ymin']]), np.mean([data_m['ymax'], data_s['ymax']]))\n",
    "    ax = plt.gca()\n",
    "    ylims = ax.get_ylim()\n",
    "    print(ylims)\n",
    "    \n",
    "    if ylims[0] % 5 < 1:\n",
    "        tick_start = (ylims[0] // 5) * 5\n",
    "    else:\n",
    "        tick_start = (ylims[0] // 5 + 1) * 5\n",
    "\n",
    "    if ylims[1] % 5 > 4:\n",
    "        tick_end = ylims[1] + 5\n",
    "    else:\n",
    "        tick_end = ylims[1]\n",
    "        \n",
    "    ax.yaxis.set_major_formatter(ticker.FormatStrFormatter('%.0f'))\n",
    "    ax.yaxis.set_ticks(np.arange(tick_start, tick_end, 5))\n",
    "    plt.yticks(fontsize=tick_fs)\n",
    "    \n",
    "    plt.xlim(0.5,2.5)\n",
    "    plt.xticks([1,2], ['Massed', 'Spaced'], fontsize=tick_fs)\n",
    "    plt.tick_params(bottom=False)     \n",
    "    \n",
    "    ax.spines['right'].set_visible(False)\n",
    "    ax.spines['top'].set_visible(False)\n",
    "    ax.spines['bottom'].set_visible(False)\n",
    "    ax.spines['left'].set_visible(False)\n",
    "    \n",
    "    plt.xlabel('Study Style', fontsize=label_fs, fontweight='bold')\n",
    "    plt.ylabel('Final Exam Score', fontsize=label_fs, fontweight='bold')\n",
    "    \n",
    "    plt.tight_layout()\n",
    "    plt.savefig(filename, dpi=300, transparent=True)"
   ]
  },
  {
   "cell_type": "code",
   "execution_count": 211,
   "metadata": {},
   "outputs": [
    {
     "data": {
      "image/png": "[encoded data removed]",
      "text/plain": [
       "<Figure size 600x600 with 1 Axes>"
      ]
     },
     "metadata": {
      "needs_background": "light"
     },
     "output_type": "display_data"
    }
   ],
   "source": [
    "plot_group(5)\n",
    "plot_group(15)\n",
    "plot_group(25)\n",
    "plot_group(35)"
   ]
  },
  {
   "cell_type": "code",
   "execution_count": null,
   "metadata": {},
   "outputs": [],
   "source": [
    "for n in grp2['graphNum']:\n",
    "    plot_group(n)"
   ]
  },
  {
   "cell_type": "code",
   "execution_count": null,
   "metadata": {},
   "outputs": [],
   "source": []
  },
  {
   "cell_type": "code",
   "execution_count": 220,
   "metadata": {},
   "outputs": [],
   "source": [
    "def plot_group_boxplot(n, sd_factor):\n",
    "    '''Plots data for group n, with y limits being data mean +/- sd_factor'''\n",
    "    fig = plt.figure(figsize=(4,6))\n",
    "    \n",
    "    data_m = raw_data[(raw_data['graphNum'] == n) & (raw_data['group'] == 'Massed')]\n",
    "    data_s = raw_data[(raw_data['graphNum'] == n) & (raw_data['group'] == 'Spaced')]\n",
    "\n",
    "    plt.boxplot([data_m['val'], data_s['val']])\n",
    "#                 yerr=data_m['sem'], fmt='ro', markersize=20, \n",
    "#                  capsize=10, ecolor='black', barsabove=True)\n",
    "#     plt.errorbar(x=2, y=data_s['mean'], yerr=data_s['sem'], fmt='bo', markersize=20, \n",
    "#                  capsize=10, ecolor='black', barsabove=True)\n",
    "\n",
    "#     ymin_m = data_m['mean'] - (sd_factor * data_m['std'])\n",
    "#     ymax_m = data_m['mean'] + (sd_factor * data_m['std'])\n",
    "#     ymin_s = data_s['mean'] - (sd_factor * data_s['std'])\n",
    "#     ymax_s = data_s['mean'] + (sd_factor * data_s['std'])\n",
    "    \n",
    "#     print(ymin_m, ymax_m)\n",
    "    \n",
    "#     plt.ylim(max(ymin_m, ymin_s), min(ymax_m, ymax_s))\n",
    "    ax = plt.gca()\n",
    "    ax.yaxis.set_major_formatter(ticker.FormatStrFormatter('%.0f'))\n",
    "    plt.yticks(fontsize=tick_fs)\n",
    "    \n",
    "    plt.xlim(0.5,2.5)\n",
    "    plt.xticks([1,2], ['Massed', 'Spaced'], fontsize=tick_fs)\n",
    "    plt.tick_params(bottom=False)     \n",
    "    \n",
    "    ax.spines['right'].set_visible(False)\n",
    "    ax.spines['top'].set_visible(False)\n",
    "    \n",
    "    plt.xlabel('Study Style', fontsize=16, fontweight='bold')\n",
    "    plt.ylabel('Final Exam Score', fontsize=16, fontweight='bold')"
   ]
  },
  {
   "cell_type": "code",
   "execution_count": 223,
   "metadata": {},
   "outputs": [
    {
     "data": {
      "image/png": "[encoded data removed]",
      "text/plain": [
       "<Figure size 288x432 with 1 Axes>"
      ]
     },
     "metadata": {
      "needs_background": "light"
     },
     "output_type": "display_data"
    },
    {
     "data": {
      "image/png": "[encoded data removed]",
      "text/plain": [
       "<Figure size 288x432 with 1 Axes>"
      ]
     },
     "metadata": {
      "needs_background": "light"
     },
     "output_type": "display_data"
    },
    {
     "data": {
      "image/png": "[encoded data removed]",
      "text/plain": [
       "<Figure size 288x432 with 1 Axes>"
      ]
     },
     "metadata": {
      "needs_background": "light"
     },
     "output_type": "display_data"
    },
    {
     "data": {
      "image/png": "[encoded data removed]",
      "text/plain": [
       "<Figure size 288x432 with 1 Axes>"
      ]
     },
     "metadata": {
      "needs_background": "light"
     },
     "output_type": "display_data"
    }
   ],
   "source": [
    "plot_group_boxplot(5, 1)\n",
    "plot_group_boxplot(15, 1)\n",
    "plot_group_boxplot(25, 1)\n",
    "plot_group_boxplot(35, 1)"
   ]
  },
  {
   "cell_type": "code",
   "execution_count": null,
   "metadata": {},
   "outputs": [],
   "source": []
  }
 ],
 "metadata": {
  "kernelspec": {
   "display_name": "Python 3",
   "language": "python",
   "name": "python3"
  },
  "language_info": {
   "codemirror_mode": {
    "name": "ipython",
    "version": 3
   },
   "file_extension": ".py",
   "mimetype": "text/x-python",
   "name": "python",
   "nbconvert_exporter": "python",
   "pygments_lexer": "ipython3",
   "version": "3.6.7"
  }
 },
 "nbformat": 4,
 "nbformat_minor": 2
}
